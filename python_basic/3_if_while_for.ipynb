{
 "cells": [
  {
   "cell_type": "code",
   "execution_count": 1,
   "metadata": {},
   "outputs": [
    {
     "name": "stdout",
     "output_type": "stream",
     "text": [
      "Ballantine\n"
     ]
    }
   ],
   "source": [
    "# if\n",
    "# code 작성하다보면 많이 쓰는 놈.\n",
    "# 만약에 ... 라면 ... 해라\n",
    "# js를 배운 사람이라면\n",
    "# Python에서의 구조를 다시 한 번 보자.\n",
    "\n",
    "# Use Example\n",
    "# if 조건문에 따라 money가 True 일 경우 >> print(\"Ballantine) 실행\n",
    "#\t\t\t\t\t\t   false 일 경우 >> print(\"soju\") 실행\n",
    "money = True # bool값은 첫 문자 대문자\n",
    "if money: # money = True\n",
    "    print(\"Ballantine\")\n",
    "else : # money = False\n",
    "    print(\"Soju\")"
   ]
  },
  {
   "cell_type": "code",
   "execution_count": 3,
   "metadata": {},
   "outputs": [
    {
     "name": "stdout",
     "output_type": "stream",
     "text": [
      "Soju\n"
     ]
    }
   ],
   "source": [
    "money = False\n",
    "if money:\n",
    "    print(\"Ballantine\")\n",
    "else : # False\n",
    "    print(\"Soju\")"
   ]
  },
  {
   "cell_type": "code",
   "execution_count": 4,
   "metadata": {},
   "outputs": [
    {
     "name": "stdout",
     "output_type": "stream",
     "text": [
      "Soju\n"
     ]
    }
   ],
   "source": [
    "# 비교연산자를 이용한 Use Example\n",
    "money = 1800\n",
    "if money >= 200000: \n",
    "    print(\"Ballantine\")\n",
    "else : \n",
    "    print(\"Soju\")"
   ]
  },
  {
   "cell_type": "code",
   "execution_count": 5,
   "metadata": {},
   "outputs": [
    {
     "name": "stdout",
     "output_type": "stream",
     "text": [
      "Ballantine\n"
     ]
    }
   ],
   "source": [
    "money = 1000000;\n",
    "if money >= 200000: \n",
    "    print(\"Ballantine\")\n",
    "else : \n",
    "    print(\"Soju\")"
   ]
  },
  {
   "cell_type": "code",
   "execution_count": 6,
   "metadata": {},
   "outputs": [
    {
     "name": "stdout",
     "output_type": "stream",
     "text": [
      "Ballantine\n"
     ]
    }
   ],
   "source": [
    "# and, or, not\n",
    "# and : 모두 참이어야 참\n",
    "# or : 둘 중 하나만 참이어도 참\n",
    "# not : 거짓이면 참\n",
    "\n",
    "# and\n",
    "money = 200000\n",
    "wife = True\n",
    "if money >= 200000 and wife: # money와 wife가 모두 참이어야\n",
    "    print(\"Ballantine\") # 참\n",
    "else : \n",
    "    print(\"Soju\")"
   ]
  },
  {
   "cell_type": "code",
   "execution_count": 7,
   "metadata": {},
   "outputs": [
    {
     "name": "stdout",
     "output_type": "stream",
     "text": [
      "Ballantine\n"
     ]
    }
   ],
   "source": [
    "# or\n",
    "money = 1800\n",
    "single = True\n",
    "if money >= 200000 or single: # money와 single 둘 중 하나만 참이면\n",
    "    print(\"Ballantine\") # 참\n",
    "else : \n",
    "    print(\"Soju\")"
   ]
  },
  {
   "cell_type": "code",
   "execution_count": 8,
   "metadata": {},
   "outputs": [
    {
     "name": "stdout",
     "output_type": "stream",
     "text": [
      "GO HOME\n"
     ]
    }
   ],
   "source": [
    "# not\n",
    "student = True # student 기 침\n",
    "if not student:  # student 거짓이라면 \n",
    "    print(\"Ballantine\")\n",
    "else :  # student 거짓이 아니라면(student가 참)\n",
    "    print(\"GO HOME\")"
   ]
  },
  {
   "cell_type": "code",
   "execution_count": 1,
   "metadata": {},
   "outputs": [
    {
     "data": {
      "text/plain": [
       "True"
      ]
     },
     "execution_count": 1,
     "metadata": {},
     "output_type": "execute_result"
    }
   ],
   "source": [
    "# in : list, tuple, 문자열 안에 있는지 확인\n",
    "# x in [list] / (tuple) / '문자열'\n",
    "# not in : list, tuple, 문자열 안에 없는지 확인 \n",
    "# x not in [list] / (tuple) / '문자열'\n",
    "1 in [1,2,3]\n"
   ]
  },
  {
   "cell_type": "code",
   "execution_count": 2,
   "metadata": {},
   "outputs": [
    {
     "data": {
      "text/plain": [
       "False"
      ]
     },
     "execution_count": 2,
     "metadata": {},
     "output_type": "execute_result"
    }
   ],
   "source": [
    "1 not in [1,2,3]"
   ]
  },
  {
   "cell_type": "code",
   "execution_count": 4,
   "metadata": {},
   "outputs": [],
   "source": [
    "# 조건문에서 아무 일도 하지 않게 설정\n",
    "# pass\n",
    "haveI = ['phone','money','key']\n",
    "if 'money' in haveI:\n",
    "    pass\n",
    "else:\n",
    "    print('samsung pay')"
   ]
  },
  {
   "cell_type": "code",
   "execution_count": 9,
   "metadata": {},
   "outputs": [
    {
     "name": "stdout",
     "output_type": "stream",
     "text": [
      "뚜벅뚜벅\n"
     ]
    }
   ],
   "source": [
    "# elif\n",
    "# 다른 언어에서는 else if와 동일하다\n",
    "# if 조건문: 수행문장 1\n",
    "# elif 조건문: 수행문장 2\n",
    "# else: 수행문장 3\n",
    "haveI = ['coin','key']\n",
    "if 'money' in haveI: # money 있나?\n",
    "    print(\"현금 사용\")\n",
    "elif 'phone' in haveI: # 그러면 phone은 있나?\n",
    "    print(\"삼성페이 사용\")\n",
    "else: # 둘 다 없으면\n",
    "    print(\"뚜벅뚜벅\")"
   ]
  },
  {
   "cell_type": "code",
   "execution_count": 11,
   "metadata": {},
   "outputs": [
    {
     "name": "stdout",
     "output_type": "stream",
     "text": [
      "count 1\n",
      "count 2\n",
      "count 3\n",
      "count 4\n",
      "count 5\n",
      "종료\n"
     ]
    }
   ],
   "source": [
    "# while \"~ 하는 동안 ~\"\n",
    "# while 조건문:\n",
    "#       수행 1\n",
    "#       수행 2\n",
    "#       수행 3 ...\n",
    "\n",
    "count = 0\n",
    "while count < 5: # 0부터 시작해서 5전까지 수행하는 조건문\n",
    "    count = count + 1 # 반복문이 수행될 때마다 카운트 + 1\n",
    "    print(\"count %d\" % count) # 반복문이 수행될 때마다 출력\n",
    "    if count == 5: # 조건문이 끝남(조건문 false)\n",
    "        print(\"종료\") # 종료"
   ]
  },
  {
   "cell_type": "code",
   "execution_count": 19,
   "metadata": {},
   "outputs": [
    {
     "name": "stdout",
     "output_type": "stream",
     "text": [
      "\n",
      "    1. 가\n",
      "    2. 나\n",
      "    3. 다\n",
      "    4. 라\n",
      "\n",
      "Enter number: \n",
      "\n",
      "    1. 가\n",
      "    2. 나\n",
      "    3. 다\n",
      "    4. 라\n",
      "\n",
      "Enter number: \n"
     ]
    }
   ],
   "source": [
    "# 여러 선택 중 하나 선택\n",
    "prompt = \"\"\"\n",
    "    1. 가\n",
    "    2. 나\n",
    "    3. 다\n",
    "    4. 라\n",
    "\n",
    "Enter number: \"\"\"\n",
    "\n",
    "number = 0\n",
    "while number != 4:\n",
    "    print(prompt)\n",
    "    number = int(input())\n",
    "\n",
    "\n",
    "\n"
   ]
  },
  {
   "cell_type": "code",
   "execution_count": 20,
   "metadata": {},
   "outputs": [
    {
     "name": "stdout",
     "output_type": "stream",
     "text": [
      "1\n",
      "2\n",
      "3\n"
     ]
    }
   ],
   "source": [
    "# for\n",
    "# for 변수 in List / Tuple / String :\n",
    "#       수행 1\n",
    "#       수행 2\n",
    "\n",
    "test = [1,2,3]\n",
    "for i in test:\n",
    "    print(i) # 첫 번째 요소 1부터 마지막 요소 3까지 실행\n"
   ]
  },
  {
   "cell_type": "code",
   "execution_count": 23,
   "metadata": {},
   "outputs": [
    {
     "name": "stdout",
     "output_type": "stream",
     "text": [
      "3\n",
      "7\n",
      "11\n"
     ]
    }
   ],
   "source": [
    "test2 = [(1,2),(3,4),(5,6)]\n",
    "for (number1, number2) in test2:\n",
    "    print(number1 + number2)"
   ]
  },
  {
   "cell_type": "code",
   "execution_count": 24,
   "metadata": {},
   "outputs": [
    {
     "name": "stdout",
     "output_type": "stream",
     "text": [
      "pass\n",
      "Fail\n",
      "pass\n",
      "Fail\n",
      "pass\n"
     ]
    }
   ],
   "source": [
    "# Use Example\n",
    "# Q.총 5명의 학생이 시험을 보았는데 시험 점수가 60점 이상이면 합격이고 그렇지 않으면 불합격이다.\n",
    "#   합격인지, 불합격인지 결과를 보여 주시오.\n",
    "points = [90, 25, 67, 45, 80]\n",
    "\n",
    "number = 0 # score list 의 번호(0 ~ 4)\n",
    "for point in points:\n",
    "    number = number + 1\n",
    "    if point >= 60:\n",
    "        print(\"pass\")\n",
    "    else:\n",
    "        print(\"Fail\")\n",
    "        "
   ]
  },
  {
   "cell_type": "code",
   "execution_count": 26,
   "metadata": {},
   "outputs": [
    {
     "name": "stdout",
     "output_type": "stream",
     "text": [
      "No. 1. Pass\n",
      "No. 3. Pass\n",
      "No. 5. Pass\n"
     ]
    }
   ],
   "source": [
    "# for + continue\n",
    "points = [90, 25, 67, 45, 80]\n",
    "\n",
    "number = 0 # score list 의 번호(0 ~ 4)\n",
    "for point in points:\n",
    "    number = number + 1\n",
    "    if point < 60: continue\n",
    "    print(\"No. %d. Pass\" % number)\n"
   ]
  },
  {
   "cell_type": "code",
   "execution_count": 28,
   "metadata": {},
   "outputs": [
    {
     "name": "stdout",
     "output_type": "stream",
     "text": [
      "10\n"
     ]
    }
   ],
   "source": [
    "# range()\n",
    "# range(10) : 0부터 10미만의 숫자를 포함하는 range 객체 생성\n",
    "a = range(10)\n",
    "print(len(a))"
   ]
  },
  {
   "cell_type": "code",
   "execution_count": 30,
   "metadata": {},
   "outputs": [
    {
     "data": {
      "text/plain": [
       "range(0, 10)"
      ]
     },
     "execution_count": 30,
     "metadata": {},
     "output_type": "execute_result"
    }
   ],
   "source": [
    "# range(start number, finish number)\n",
    "a = range(0, 10)\n",
    "a"
   ]
  },
  {
   "cell_type": "code",
   "execution_count": 32,
   "metadata": {},
   "outputs": [
    {
     "name": "stdout",
     "output_type": "stream",
     "text": [
      "1\n",
      "3\n",
      "6\n",
      "10\n",
      "15\n",
      "21\n",
      "28\n",
      "36\n",
      "45\n",
      "55\n",
      "55\n"
     ]
    }
   ],
   "source": [
    "# Use Example\n",
    "# 1 ~ 10 합\n",
    "add = 0\n",
    "for i in range(1, 11):\n",
    "    add = add + i\n",
    "    print(add)\n",
    "print(add)"
   ]
  },
  {
   "cell_type": "code",
   "execution_count": 35,
   "metadata": {},
   "outputs": [
    {
     "name": "stdout",
     "output_type": "stream",
     "text": [
      "2 4 6 8 10 12 14 16 18 \n",
      "3 6 9 12 15 18 21 24 27 \n",
      "4 8 12 16 20 24 28 32 36 \n",
      "5 10 15 20 25 30 35 40 45 \n",
      "6 12 18 24 30 36 42 48 54 \n",
      "7 14 21 28 35 42 49 56 63 \n",
      "8 16 24 32 40 48 56 64 72 \n",
      "9 18 27 36 45 54 63 72 81 \n"
     ]
    }
   ],
   "source": [
    "# 구구단!\n",
    "for x in range(2, 10): # 2단 ~ 10단\n",
    "    for y in range(1, 10): # 단에 곱해지는 수\n",
    "        print(x * y, end=\" \") # 줄 바꿈 x, \" \"만큼 구분\n",
    "\n",
    "    print('') # 단 구분\n",
    "\n",
    "# end : 출력값이 이어서 나옴(줄바꿈 x)"
   ]
  }
 ],
 "metadata": {
  "kernelspec": {
   "display_name": "Python 3",
   "language": "python",
   "name": "python3"
  },
  "language_info": {
   "codemirror_mode": {
    "name": "ipython",
    "version": 3
   },
   "file_extension": ".py",
   "mimetype": "text/x-python",
   "name": "python",
   "nbconvert_exporter": "python",
   "pygments_lexer": "ipython3",
   "version": "3.12.0"
  }
 },
 "nbformat": 4,
 "nbformat_minor": 2
}
