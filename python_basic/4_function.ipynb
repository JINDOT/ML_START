{
 "cells": [
  {
   "cell_type": "code",
   "execution_count": 3,
   "metadata": {},
   "outputs": [
    {
     "name": "stdout",
     "output_type": "stream",
     "text": [
      "4\n"
     ]
    }
   ],
   "source": [
    "# 함수(function)\n",
    "# x(입력값) -> f() -> y(출력값)\n",
    "# 왜 ?? 반복적인 프로그래밍을 피할 수 있기 때문.(귀찮으니까...)\n",
    "# 하나의 함수를 만들어 놓고 필요할 때마다 호출해서 사용\n",
    "# class와 비슷한데...\n",
    "# 규칙은 없으나, 하나의 기능을 하나의 함수로 만드는 것이 best\n",
    "\n",
    "# 함수의 기본 구조\n",
    "# def 함수 이름(매개변수):\n",
    "#     실행 문장 1\n",
    "#     실행 문장 2\n",
    "#     ....\n",
    "\n",
    "# 함수 정의\n",
    "def add(a,b): # a, b 입력값\n",
    "    return a + b # 리턴값\n",
    "\n",
    "# 함수 사용\n",
    "print(add(1, 3)) # 1,3 압력값\n"
   ]
  },
  {
   "cell_type": "code",
   "execution_count": 1,
   "metadata": {},
   "outputs": [
    {
     "name": "stdout",
     "output_type": "stream",
     "text": [
      "7\n"
     ]
    }
   ],
   "source": [
    "# 매개변수 , 인수\n",
    "# 매개변수(parameter) : 함수에서 정의되어 사용되는 변수(인자, 파라미터)\n",
    "# 인수(arguments) : 함수를 호출할 때 건네주는 변수\n",
    "\n",
    "def add(a ,b): # a,b 매개변수\n",
    "    return a+b\n",
    "\n",
    "print(add(3,4)) # 3, 4 인수"
   ]
  },
  {
   "cell_type": "code",
   "execution_count": 4,
   "metadata": {},
   "outputs": [
    {
     "name": "stdout",
     "output_type": "stream",
     "text": [
      "hi\n"
     ]
    }
   ],
   "source": [
    "# 입력값이 없다;\n",
    "def say():\n",
    "    return \"hi\" # 함수 리턴값!\n",
    "\n",
    "a = say() # 변수에 담기\n",
    "\n",
    "print(a) # 변수 출력\n"
   ]
  },
  {
   "cell_type": "code",
   "execution_count": 6,
   "metadata": {},
   "outputs": [
    {
     "name": "stdout",
     "output_type": "stream",
     "text": [
      "1, 2의 합은 3 요\n",
      "None\n"
     ]
    }
   ],
   "source": [
    "# 리턴값이 없다;;\n",
    "# None ..? add 함수를 실행하고 리턴값이 없다;;\n",
    "def add(a, b):\n",
    "    print(\"%d, %d의 합은 %d 요\" %(a, b, a+b)) # 함수가 실행되면서 그저 실행됨\n",
    "\n",
    "a = add(1, 2)\n",
    "print(a)"
   ]
  },
  {
   "cell_type": "code",
   "execution_count": 7,
   "metadata": {},
   "outputs": [
    {
     "name": "stdout",
     "output_type": "stream",
     "text": [
      "1, 2의 합은 3 요\n",
      "3\n"
     ]
    }
   ],
   "source": [
    "def add(a, b):\n",
    "    print(\"%d, %d의 합은 %d 요\" %(a, b, a+b)) # 함수가 실행되면서 그저 실행됨\n",
    "    return a+b\n",
    "a = add(1, 2)\n",
    "print(a)"
   ]
  },
  {
   "cell_type": "code",
   "execution_count": 8,
   "metadata": {},
   "outputs": [
    {
     "name": "stdout",
     "output_type": "stream",
     "text": [
      "hi\n",
      "None\n"
     ]
    }
   ],
   "source": [
    "# 둘 다 없음;;\n",
    "def say(): # 입력값이 없어도 실행가능 함수\n",
    "    print('hi') # 마찬가지로 걍 실행됨\n",
    "                # 리턴이 없으니 None 나옴\n",
    "\n",
    "a = say() # 입력값이 필요없으니 여기도 입력값 X\n",
    "print(a)"
   ]
  },
  {
   "cell_type": "code",
   "execution_count": 11,
   "metadata": {},
   "outputs": [
    {
     "name": "stdout",
     "output_type": "stream",
     "text": [
      "4\n"
     ]
    }
   ],
   "source": [
    "# 매개변수(parameter) 를 지정하는 함수\n",
    "def sub(a, b):\n",
    "    return a - b\n",
    "\n",
    "a = sub(b = 1, a = 5) # a = 5, b = 1를 지정해서 전달\n",
    "\n",
    "print(a)"
   ]
  },
  {
   "cell_type": "code",
   "execution_count": 2,
   "metadata": {},
   "outputs": [
    {
     "name": "stdout",
     "output_type": "stream",
     "text": [
      "1\n",
      "3\n",
      "6\n",
      "10\n",
      "15\n",
      "21\n"
     ]
    },
    {
     "data": {
      "text/plain": [
       "21"
      ]
     },
     "execution_count": 2,
     "metadata": {},
     "output_type": "execute_result"
    }
   ],
   "source": [
    "# 입력값이 몇 개죠??\n",
    "def adds(*args): # *?? 한 번에 입력받는다. 안쓰면 (a,b,c,..) 처럼 하나씩 다 받아야함\n",
    "    result = 0\n",
    "    for i in args:\n",
    "        result = result + i # args에 전달된 값을 더해줌\n",
    "        print(result)\n",
    "    return result\n",
    "\n",
    "adds(1,2,3,4,5,6)"
   ]
  },
  {
   "cell_type": "code",
   "execution_count": 20,
   "metadata": {},
   "outputs": [
    {
     "name": "stdout",
     "output_type": "stream",
     "text": [
      "24\n"
     ]
    }
   ],
   "source": [
    "def add_mul(choice, *args):\n",
    "    if choice == \"add\": # choice의 입력값이 \"add\"\n",
    "        result = 0\n",
    "        for i in args:\n",
    "            result = result + i # 1 + 2 + 3 + 4\n",
    "    elif choice == \"mul\": # choice의 입력값이 \"mul\"\n",
    "        result = 1 # 초기값 0 , 0 * ?? = 0\n",
    "        for i in args:\n",
    "            result = result * i # 1 * 2 * 3 * 4\n",
    "    return result\n",
    "\n",
    "result = add_mul(\"mul\", 1,2,3,4)\n",
    "print(result)"
   ]
  },
  {
   "cell_type": "code",
   "execution_count": 21,
   "metadata": {},
   "outputs": [
    {
     "name": "stdout",
     "output_type": "stream",
     "text": [
      "{'a': 1, 'b': 2}\n"
     ]
    }
   ],
   "source": [
    "# 키워드 매개변수 : kwargs\n",
    "def print_kwargs(**kwargs):\n",
    "    print(kwargs)\n",
    "\n",
    "print_kwargs(a = 1, b = 2) # 딕셔너리 형태로 입력"
   ]
  },
  {
   "cell_type": "code",
   "execution_count": 22,
   "metadata": {},
   "outputs": [
    {
     "name": "stdout",
     "output_type": "stream",
     "text": [
      "1\n"
     ]
    }
   ],
   "source": [
    "# a의 값만 출력하고 싶다.\n",
    "def print_kwargs(**kwargs):\n",
    "    # print(kwargs)\n",
    "    print(kwargs['a']) # a의 입력값만 출력하겠다\n",
    "print_kwargs(a = 1, b = 2) # 딕셔너리 형태로 입력"
   ]
  },
  {
   "cell_type": "code",
   "execution_count": 23,
   "metadata": {},
   "outputs": [
    {
     "name": "stdout",
     "output_type": "stream",
     "text": [
      "(7, 12)\n"
     ]
    }
   ],
   "source": [
    "# 함수의 리턴값은 언제나 하나\n",
    "def add_and_mul(a,b):\n",
    "    return a + b, a * b # 튜플로 리턴\n",
    "\n",
    "print(add_and_mul(3,4)) # 튜플의 형태로 입력"
   ]
  },
  {
   "cell_type": "code",
   "execution_count": 26,
   "metadata": {},
   "outputs": [
    {
     "name": "stdout",
     "output_type": "stream",
     "text": [
      "(7, 12)\n"
     ]
    }
   ],
   "source": [
    "def add_and_mul(a,b):\n",
    "    return a + b, a * b \n",
    "\n",
    "k = add_and_mul(3,4)\n",
    "print(k)"
   ]
  },
  {
   "cell_type": "code",
   "execution_count": 25,
   "metadata": {},
   "outputs": [
    {
     "name": "stdout",
     "output_type": "stream",
     "text": [
      "7\n"
     ]
    }
   ],
   "source": [
    "def add_and_mul(a,b):\n",
    "    return a + b # return 하고 함수 끝\n",
    "    return a * b # return 값이 2개 이지만 처음 만난 return값만 반환\n",
    "\n",
    "k = add_and_mul(3,4)\n",
    "print(k)"
   ]
  },
  {
   "cell_type": "code",
   "execution_count": 30,
   "metadata": {},
   "outputs": [
    {
     "name": "stdout",
     "output_type": "stream",
     "text": [
      "나의 별명은 jindot 입니다.\n"
     ]
    }
   ],
   "source": [
    "# 함수 탈출\n",
    "def say_nick(nick): \n",
    "        if nick == \"바보\":          \n",
    "            return\n",
    "        print(\"나의 별명은 %s 입니다.\" % nick)\n",
    "\n",
    "say_nick(\"jindot\")\n",
    "\n"
   ]
  },
  {
   "cell_type": "code",
   "execution_count": 4,
   "metadata": {},
   "outputs": [],
   "source": [
    "def say_nick(nick): \n",
    "        if nick == \"바보\":          \n",
    "            return\n",
    "        print(\"나의 별명은 %s 입니다.\" % nick)\n",
    "\n",
    "say_nick(\"바보\")"
   ]
  },
  {
   "cell_type": "code",
   "execution_count": 35,
   "metadata": {},
   "outputs": [
    {
     "name": "stdout",
     "output_type": "stream",
     "text": [
      "나의 이름은 jindot 입니다.\n",
      "나이는 30살입니다.\n",
      "남자입니다.\n"
     ]
    }
   ],
   "source": [
    "# 초기값 미리 설정\n",
    "def say_myself(name, age, man=True):  # man = True 로 기본값 지정\n",
    "    print(\"나의 이름은 %s 입니다.\" % name) \n",
    "    print(\"나이는 %d살입니다.\" % age) \n",
    "    if man: \n",
    "        print(\"남자입니다.\")\n",
    "    else: \n",
    "        print(\"여자입니다.\")\n",
    "\n",
    "say_myself(\"jindot\", 30)"
   ]
  },
  {
   "cell_type": "code",
   "execution_count": 36,
   "metadata": {},
   "outputs": [
    {
     "ename": "SyntaxError",
     "evalue": "parameter without a default follows parameter with a default (313311144.py, line 1)",
     "output_type": "error",
     "traceback": [
      "\u001b[1;36m  Cell \u001b[1;32mIn[36], line 1\u001b[1;36m\u001b[0m\n\u001b[1;33m    def say_myself(name, man=True, age):  # man = True 로 기본값 지정\u001b[0m\n\u001b[1;37m                                   ^\u001b[0m\n\u001b[1;31mSyntaxError\u001b[0m\u001b[1;31m:\u001b[0m parameter without a default follows parameter with a default\n"
     ]
    }
   ],
   "source": [
    "# 초기값 지정하고 싶은 매개변수는 항상 뒤에\n",
    "def say_myself(name, man=True, age):  # man = True 로 기본값 지정\n",
    "    print(\"나의 이름은 %s 입니다.\" % name) \n",
    "    print(\"나이는 %d살입니다.\" % age) \n",
    "    if man: \n",
    "        print(\"남자입니다.\")\n",
    "    else: \n",
    "        print(\"여자입니다.\")\n",
    "\n",
    "say_myself(\"jindot\", 30)"
   ]
  },
  {
   "cell_type": "code",
   "execution_count": 39,
   "metadata": {},
   "outputs": [
    {
     "name": "stdout",
     "output_type": "stream",
     "text": [
      "None\n",
      "1\n"
     ]
    }
   ],
   "source": [
    "# 함수 안에 선언된 변수의 효력 범위\n",
    "a = 1 # 전역변수\n",
    "def vartest(a):\n",
    "    a = a + 1 # 지역변수 : 함수 안에서만 사용되는 변수 a\n",
    "\n",
    "print(vartest(a))\n",
    "print(a) # 전역변수 1이 출력\n"
   ]
  },
  {
   "cell_type": "code",
   "execution_count": 41,
   "metadata": {},
   "outputs": [
    {
     "name": "stdout",
     "output_type": "stream",
     "text": [
      "4\n",
      "None\n",
      "1\n"
     ]
    }
   ],
   "source": [
    "a = 1\n",
    "def test2(a):\n",
    "    a = a + 3\n",
    "    print(a) # 함수 안에서만 사용된 a\n",
    "\n",
    "print(test2(a)) # 함수 리턴을 안했으니 None\n",
    "print(a) # 전역변수 1"
   ]
  },
  {
   "cell_type": "code",
   "execution_count": 46,
   "metadata": {},
   "outputs": [
    {
     "name": "stdout",
     "output_type": "stream",
     "text": [
      "2\n"
     ]
    }
   ],
   "source": [
    "# 함수 안에서 함수 밖의 변수를 변경하는 방법\n",
    "# return\n",
    "a = 1 \n",
    "def vartest(a): \n",
    "    a = a + 1 \n",
    "    return a\n",
    "\n",
    "a = vartest(a) \n",
    "print(a)"
   ]
  },
  {
   "cell_type": "code",
   "execution_count": 43,
   "metadata": {},
   "outputs": [
    {
     "name": "stdout",
     "output_type": "stream",
     "text": [
      "2\n"
     ]
    }
   ],
   "source": [
    "# global\n",
    "a = 1 \n",
    "def vartest(): \n",
    "    global a # 전역번수 a를 가르킴\n",
    "    a = a + 1 # 전역변수 a = 1 입력\n",
    "\n",
    "vartest() \n",
    "print(a)\n"
   ]
  },
  {
   "cell_type": "code",
   "execution_count": 5,
   "metadata": {},
   "outputs": [
    {
     "name": "stdout",
     "output_type": "stream",
     "text": [
      "7\n"
     ]
    }
   ],
   "source": [
    "add = lambda a, b: a+b\n",
    "result = add(3, 4)\n",
    "print(result)\n"
   ]
  }
 ],
 "metadata": {
  "kernelspec": {
   "display_name": "Python 3",
   "language": "python",
   "name": "python3"
  },
  "language_info": {
   "codemirror_mode": {
    "name": "ipython",
    "version": 3
   },
   "file_extension": ".py",
   "mimetype": "text/x-python",
   "name": "python",
   "nbconvert_exporter": "python",
   "pygments_lexer": "ipython3",
   "version": "3.12.0"
  }
 },
 "nbformat": 4,
 "nbformat_minor": 2
}
