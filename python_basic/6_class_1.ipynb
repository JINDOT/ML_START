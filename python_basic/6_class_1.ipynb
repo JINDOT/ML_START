{
 "cells": [
  {
   "cell_type": "code",
   "execution_count": 2,
   "metadata": {},
   "outputs": [
    {
     "name": "stdout",
     "output_type": "stream",
     "text": [
      "hello\n"
     ]
    }
   ],
   "source": [
    "# class : object(객체)를 표현하기 위한 문법\n",
    "# 어떻게 ?? attribute(속성) 과 method(메서드)로!\n",
    "\n",
    "# class className:\n",
    "#     def method(self): # 첫 번째 매개변수는 반드시 self\n",
    "#         print(\"아무 코드나 사용\")\n",
    "\n",
    "# example 1\n",
    "class Person:\n",
    "    def greeting(self):\n",
    "        print(\"hello\")\n",
    "\n",
    "# instance = class()\n",
    "jindot = Person() # jindot이라는 Person Class의 instance를 생성\n",
    "# instance.method()\n",
    "jindot.greeting() # Person 안에 greeting method 사용할거임\n"
   ]
  },
  {
   "cell_type": "code",
   "execution_count": null,
   "metadata": {},
   "outputs": [],
   "source": [
    "# object 와 instance의 차이점?\n",
    "# 그냥 동일하다 보면 된다.\n",
    "# 객체만 말할 때에는 객체, 클래스랑 연결지어 말할 떄는 인스턴스\n"
   ]
  },
  {
   "cell_type": "code",
   "execution_count": 2,
   "metadata": {},
   "outputs": [
    {
     "name": "stdout",
     "output_type": "stream",
     "text": [
      "hi\n"
     ]
    }
   ],
   "source": [
    "# attribute(속성)\n",
    "# class className:\n",
    "#     def __init__(self):\n",
    "#         self.attribute = value\n",
    "class Person:\n",
    "    def __init__(self): # __init__ method\n",
    "        self.hello = \"hi\" # attribute\n",
    "\n",
    "    def greeting(self):\n",
    "        print(self.hello) # self.hello를 바로 출력하게 만듬\n",
    "\n",
    "\n",
    "# Person class로 instance를 만들고\n",
    "jindot = Person()\n",
    "# greeting method를 호출\n",
    "jindot.greeting()\n",
    "# self.hello에 저장된 hi를 출력\n",
    "\n",
    "# __init__  (생성자)\n",
    "# instance를 만들 때 호출되는 method\n",
    "# intance(object)를 초기화\n",
    "# __ 이게 붙는 method는 python이 자동으로 호출해주는 method\n",
    "# Special Method or Magic Method\n",
    "\n",
    "# self\n",
    "# instance 자신을 뜻함\n",
    "# self.hello 라는 속성을 추가했을 때, __init__ 매개변수 self에\n",
    "# 들어가는 값은 Person() 이다."
   ]
  },
  {
   "cell_type": "code",
   "execution_count": 3,
   "metadata": {},
   "outputs": [
    {
     "name": "stdout",
     "output_type": "stream",
     "text": [
      "Name : jindot, Age : 31\n",
      "Name :  jindot\n",
      "Age :  31\n"
     ]
    }
   ],
   "source": [
    "# instance 만들 때 값 받기\n",
    "# class className:\n",
    "#     def __init__(self):\n",
    "#         self.attr1 = param1\n",
    "#         self.attr2 = param2\n",
    "class Person:\n",
    "    def __init__(self, name, age): # jindot instance의 값이 들어감\n",
    "        self.name = name # name값\n",
    "        self.age = age # age 값\n",
    "\n",
    "    def info(self):\n",
    "        print('Name : {0}, Age : {1}'.format(self.name,self.age))\n",
    "\n",
    "jindot = Person('jindot', 31) # instance 생성\n",
    "jindot.info() # 호출 method\n",
    "\n",
    "# 클래스 밖에서 속성에 접근할 때\n",
    "# instance.attribute , 인스턴스 속성\n",
    "print('Name : ',jindot.name)\n",
    "print('Age : ',jindot.age)"
   ]
  },
  {
   "cell_type": "code",
   "execution_count": 1,
   "metadata": {},
   "outputs": [
    {
     "ename": "AttributeError",
     "evalue": "'Person' object has no attribute '__money'",
     "output_type": "error",
     "traceback": [
      "\u001b[1;31m---------------------------------------------------------------------------\u001b[0m",
      "\u001b[1;31mAttributeError\u001b[0m                            Traceback (most recent call last)",
      "Cell \u001b[1;32mIn[1], line 13\u001b[0m\n\u001b[0;32m     10\u001b[0m         \u001b[38;5;28mself\u001b[39m\u001b[38;5;241m.\u001b[39m__money \u001b[38;5;241m=\u001b[39m money\n\u001b[0;32m     12\u001b[0m jindot \u001b[38;5;241m=\u001b[39m Person(\u001b[38;5;124m'\u001b[39m\u001b[38;5;124mjindot\u001b[39m\u001b[38;5;124m'\u001b[39m, \u001b[38;5;241m31\u001b[39m, \u001b[38;5;241m5000\u001b[39m) \u001b[38;5;66;03m# instance 생성\u001b[39;00m\n\u001b[1;32m---> 13\u001b[0m \u001b[43mjindot\u001b[49m\u001b[38;5;241;43m.\u001b[39;49m\u001b[43m__money\u001b[49m \u001b[38;5;241m-\u001b[39m\u001b[38;5;241m=\u001b[39m \u001b[38;5;241m5000\u001b[39m \u001b[38;5;66;03m# class 밖에서 접근하면 error 발생\u001b[39;00m\n",
      "\u001b[1;31mAttributeError\u001b[0m: 'Person' object has no attribute '__money'"
     ]
    }
   ],
   "source": [
    "# 비공개 속성\n",
    "# 만약 클래스 밖에서 속성을 접근 금지하고 싶을 때\n",
    "# class className:\n",
    "#     def __init__(self, param)\n",
    "#         self.__attri = value\n",
    "class Person:\n",
    "    def __init__(self, name, age, money): # jindot instance의 값이 들어감\n",
    "        self.name = name # name값\n",
    "        self.age = age # age 값\n",
    "        self.__money = money\n",
    "\n",
    "jindot = Person('jindot', 31, 5000) # instance 생성\n",
    "jindot.__money -= 5000 # class 밖에서 접근하면 error 발생"
   ]
  },
  {
   "cell_type": "code",
   "execution_count": 4,
   "metadata": {},
   "outputs": [
    {
     "name": "stdout",
     "output_type": "stream",
     "text": [
      "가진 돈 : 2000\n"
     ]
    }
   ],
   "source": [
    "class Person:\n",
    "    def __init__(self, name, age, money): # jindot instance의 값이 들어감\n",
    "        self.name = name # name값\n",
    "        self.age = age # age 값\n",
    "        self.__money = money\n",
    "\n",
    "    def pay(self, amount): # 비공개 속성은 클래스 안의 메소드에서만 접근가능\n",
    "        self.__money -= amount\n",
    "        print('가진 돈 : {0}'.format(self.__money))\n",
    "        \n",
    "jindot = Person('jindot', 31, 5000) # instance 생성\n",
    "jindot.pay(3000)"
   ]
  }
 ],
 "metadata": {
  "kernelspec": {
   "display_name": "Python 3",
   "language": "python",
   "name": "python3"
  },
  "language_info": {
   "codemirror_mode": {
    "name": "ipython",
    "version": 3
   },
   "file_extension": ".py",
   "mimetype": "text/x-python",
   "name": "python",
   "nbconvert_exporter": "python",
   "pygments_lexer": "ipython3",
   "version": "3.12.0"
  }
 },
 "nbformat": 4,
 "nbformat_minor": 2
}
