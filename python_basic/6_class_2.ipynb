{
 "cells": [
  {
   "cell_type": "code",
   "execution_count": 1,
   "metadata": {},
   "outputs": [
    {
     "name": "stdout",
     "output_type": "stream",
     "text": [
      "반갑\n",
      "열공\n"
     ]
    }
   ],
   "source": [
    "# class inheritance\n",
    "# 부모 클래스 -> 자식 클래스\n",
    "\n",
    "# class ParentClass:\n",
    "#     Code\n",
    "\n",
    "# class ChildClass(ParentClass):\n",
    "#     Code\n",
    "\n",
    "class Person: \n",
    "    def greeting(self):\n",
    "        print(\"반갑\")\n",
    "\n",
    "class Student(Person):\n",
    "    def study(self):\n",
    "        print(\"열공\")\n",
    "\n",
    "jindot = Student()\n",
    "jindot.greeting() # 부모 클래스의 Person method 호출\n",
    "# Student class 안에는 없지만 상속을 받아 사용가능하다.\n",
    "jindot.study() # 자식 클래스의 Student의 study method 호출\n",
    "\n"
   ]
  },
  {
   "cell_type": "code",
   "execution_count": 2,
   "metadata": {},
   "outputs": [],
   "source": [
    "# 포함\n",
    "# 속성에 인스턴스를 넣어서 관리 >> PersonList가 Person을 포함\n",
    "# 이럴 경우 포함 관계\n",
    "# has-a 관계\n",
    "class Person:\n",
    "    def greeting(self):\n",
    "        print(\"반갑\")\n",
    "\n",
    "class PersonList:\n",
    "    def __init__(self):\n",
    "        self.person_list = [] # List 속성에 Person instance를 넣어 관리\n",
    "    \n",
    "    def append_person(self, person): # list 속성에 Person instance를 추가\n",
    "        self.person_list.append(person) "
   ]
  },
  {
   "cell_type": "code",
   "execution_count": 1,
   "metadata": {},
   "outputs": [
    {
     "name": "stdout",
     "output_type": "stream",
     "text": [
      "student init!!\n",
      "파이썬고\n"
     ]
    },
    {
     "ename": "AttributeError",
     "evalue": "'Student' object has no attribute 'hello'",
     "output_type": "error",
     "traceback": [
      "\u001b[1;31m---------------------------------------------------------------------------\u001b[0m",
      "\u001b[1;31mAttributeError\u001b[0m                            Traceback (most recent call last)",
      "Cell \u001b[1;32mIn[1], line 14\u001b[0m\n\u001b[0;32m     12\u001b[0m jindot \u001b[38;5;241m=\u001b[39m Student()\n\u001b[0;32m     13\u001b[0m \u001b[38;5;28mprint\u001b[39m(jindot\u001b[38;5;241m.\u001b[39mschool) \u001b[38;5;66;03m# 자식클래스 속성 접근 O\u001b[39;00m\n\u001b[1;32m---> 14\u001b[0m \u001b[38;5;28mprint\u001b[39m(\u001b[43mjindot\u001b[49m\u001b[38;5;241;43m.\u001b[39;49m\u001b[43mhello\u001b[49m) \u001b[38;5;66;03m# 부모클래스 속성 접근 X\u001b[39;00m\n",
      "\u001b[1;31mAttributeError\u001b[0m: 'Student' object has no attribute 'hello'"
     ]
    }
   ],
   "source": [
    "# 부모 클래스의 속성 사용\n",
    "class Person: \n",
    "    def __init__(self):\n",
    "        print(\"person init!\")\n",
    "        self.hello = '반갑'\n",
    "\n",
    "class Student(Person):\n",
    "    def __init__(self):\n",
    "        print(\"student init!!\")\n",
    "        self.school = '파이썬고'\n",
    "\n",
    "jindot = Student()\n",
    "print(jindot.school) # 자식클래스 속성 접근 O\n",
    "print(jindot.hello) # 부모클래스 속성 접근 X"
   ]
  },
  {
   "cell_type": "code",
   "execution_count": 4,
   "metadata": {},
   "outputs": [
    {
     "name": "stdout",
     "output_type": "stream",
     "text": [
      "student init!!\n",
      "person init!\n",
      "파이썬고\n",
      "반갑\n"
     ]
    }
   ],
   "source": [
    "# super()\n",
    "# 부모 클래스의 __init__ 을 호출해준다.\n",
    "class Person: \n",
    "    def __init__(self):\n",
    "        print(\"person init!\")\n",
    "        self.hello = '반갑'\n",
    "\n",
    "class Student(Person):\n",
    "    def __init__(self):\n",
    "        print(\"student init!!\")\n",
    "        super().__init__()\n",
    "        self.school = '파이썬고'\n",
    "\n",
    "jindot = Student()\n",
    "print(jindot.school)\n",
    "print(jindot.hello)\n",
    "\n",
    "# jindot = Student() instance 생성\n",
    "# print(jindot.hello) 접근\n",
    "# Student Class에 hello 속성 있는지 확인\n",
    "# 아닌 경우 super().__init__()으로 부모클래스의 속성 호출했는지\n",
    "# 맞다면 Person Class에서 hello 호출\n",
    "\n",
    "# 만약 자식 클래스에 __init__ method 없다면 안해도 됨!"
   ]
  },
  {
   "cell_type": "code",
   "execution_count": 6,
   "metadata": {},
   "outputs": [
    {
     "name": "stdout",
     "output_type": "stream",
     "text": [
      "반갑. jindot\n"
     ]
    }
   ],
   "source": [
    "# method overriding\n",
    "# overriding : 무시하다. 우선적으로 하다.\n",
    "# 자식 클래스에서 부모 클래스의 method를 새로 정의\n",
    "# why? 기능이 같은 method 이름으로 계속 사용되어야할 때 사용\n",
    "class Person:\n",
    "    def greeting(self): # Overriding 당한 method\n",
    "        print(\"반갑.\") \n",
    "    \n",
    "class Student(Person):\n",
    "    def greeting(self):\n",
    "        print(\"반갑. jindot\")\n",
    "\n",
    "jindot = Student()\n",
    "jindot.greeting() # Person 무시하고 Student method 호출할꺼!"
   ]
  },
  {
   "cell_type": "code",
   "execution_count": null,
   "metadata": {},
   "outputs": [],
   "source": []
  },
  {
   "cell_type": "code",
   "execution_count": 7,
   "metadata": {},
   "outputs": [
    {
     "name": "stdout",
     "output_type": "stream",
     "text": [
      "반갑.\n",
      "jindot\n"
     ]
    }
   ],
   "source": [
    "# super()\n",
    "# 반갑. 이 중복\n",
    "# 중복된 기능을 자식 클래스에서 다시 만들지 않고,\n",
    "# 부모 클래스 기능을 사용\n",
    "class Person:\n",
    "    def greeting(self):\n",
    "        print(\"반갑.\") \n",
    "    \n",
    "class Student(Person):\n",
    "    def greeting(self):\n",
    "        super().greeting() # 부모클래스 가져다 씀(\"반갑.\" 중복 삭제)\n",
    "        print(\"jindot\")\n",
    "\n",
    "jindot = Student()\n",
    "jindot.greeting()"
   ]
  },
  {
   "cell_type": "code",
   "execution_count": null,
   "metadata": {},
   "outputs": [],
   "source": []
  }
 ],
 "metadata": {
  "kernelspec": {
   "display_name": "Python 3",
   "language": "python",
   "name": "python3"
  },
  "language_info": {
   "codemirror_mode": {
    "name": "ipython",
    "version": 3
   },
   "file_extension": ".py",
   "mimetype": "text/x-python",
   "name": "python",
   "nbconvert_exporter": "python",
   "pygments_lexer": "ipython3",
   "version": "3.12.0"
  }
 },
 "nbformat": 4,
 "nbformat_minor": 2
}
