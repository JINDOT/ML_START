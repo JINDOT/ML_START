{
 "cells": [
  {
   "cell_type": "code",
   "execution_count": 3,
   "metadata": {},
   "outputs": [
    {
     "name": "stdout",
     "output_type": "stream",
     "text": [
      "반갑\n",
      "Hi\n",
      "jindot\n"
     ]
    }
   ],
   "source": [
    "# 다중 상속\n",
    "# 부모가 여러 개..?\n",
    "class Person1:\n",
    "    def greeting(self):\n",
    "        print(\"반갑\")\n",
    "\n",
    "class Person2:\n",
    "    def sayHi(self):\n",
    "        print(\"Hi\")\n",
    "\n",
    "class Student(Person1, Person2):\n",
    "    def study(self):\n",
    "        print(\"jindot\")\n",
    "\n",
    "jindot = Student()\n",
    "jindot.greeting() # 부모 1에서 가져옴\n",
    "jindot.sayHi() # 부모 2에서 가져옴\n",
    "jindot.study()"
   ]
  },
  {
   "cell_type": "code",
   "execution_count": 4,
   "metadata": {},
   "outputs": [
    {
     "ename": "TypeError",
     "evalue": "Can't instantiate abstract class Student without an implementation for abstract method 'go_to_school'",
     "output_type": "error",
     "traceback": [
      "\u001b[1;31m---------------------------------------------------------------------------\u001b[0m",
      "\u001b[1;31mTypeError\u001b[0m                                 Traceback (most recent call last)",
      "Cell \u001b[1;32mIn[4], line 23\u001b[0m\n\u001b[0;32m     20\u001b[0m     \u001b[38;5;28;01mdef\u001b[39;00m \u001b[38;5;21mstudy\u001b[39m(\u001b[38;5;28mself\u001b[39m):\n\u001b[0;32m     21\u001b[0m         \u001b[38;5;28mprint\u001b[39m(\u001b[38;5;124m\"\u001b[39m\u001b[38;5;124m열공!\u001b[39m\u001b[38;5;124m\"\u001b[39m)\n\u001b[1;32m---> 23\u001b[0m jindot \u001b[38;5;241m=\u001b[39m \u001b[43mStudent\u001b[49m\u001b[43m(\u001b[49m\u001b[43m)\u001b[49m\n\u001b[0;32m     24\u001b[0m jindot\u001b[38;5;241m.\u001b[39mstudy()\n\u001b[0;32m     25\u001b[0m jindot\u001b[38;5;241m.\u001b[39mgo_to_school()\n",
      "\u001b[1;31mTypeError\u001b[0m: Can't instantiate abstract class Student without an implementation for abstract method 'go_to_school'"
     ]
    }
   ],
   "source": [
    "# 추상클래스(abstract class)\n",
    "# 먼저 모듈을 가져와야 함.\n",
    "# from abc import *\n",
    "# class abstarctClass(metaclass = ABCMeta):\n",
    "#     @abstractmethod\n",
    "#     def methodName(self):\n",
    "#         \n",
    "\n",
    "from abc import *\n",
    "class StudentBase(metaclass = ABCMeta):\n",
    "    @abstractmethod\n",
    "    def study(self):\n",
    "        pass\n",
    "\n",
    "    @abstractmethod\n",
    "    def go_to_school(self):\n",
    "        pass\n",
    "\n",
    "class Student(StudentBase):\n",
    "    def study(self): # study method 만 구현\n",
    "        print(\"열공!\")\n",
    "\n",
    "jindot = Student()\n",
    "jindot.study()\n",
    "jindot.go_to_school()\n"
   ]
  },
  {
   "cell_type": "code",
   "execution_count": 5,
   "metadata": {},
   "outputs": [
    {
     "name": "stdout",
     "output_type": "stream",
     "text": [
      "열공!\n",
      "학교!\n"
     ]
    }
   ],
   "source": [
    "\n",
    "from abc import *\n",
    "class StudentBase(metaclass = ABCMeta):\n",
    "    @abstractmethod\n",
    "    def study(self):\n",
    "        pass\n",
    "\n",
    "    @abstractmethod\n",
    "    def go_to_school(self):\n",
    "        pass\n",
    "\n",
    "class Student(StudentBase):\n",
    "    def study(self): # study method 만 구현\n",
    "        print(\"열공!\")\n",
    "    def go_to_school(self):\n",
    "        print(\"학교!\")\n",
    "        \n",
    "jindot = Student()\n",
    "jindot.study()\n",
    "jindot.go_to_school()\n",
    "\n",
    "# 추상 클래스는 인스턴스를 만들 수 없으므로 메소드도 호출할  일 없음\n",
    "# 빈 클래스로 만드는 이유"
   ]
  }
 ],
 "metadata": {
  "kernelspec": {
   "display_name": "Python 3",
   "language": "python",
   "name": "python3"
  },
  "language_info": {
   "codemirror_mode": {
    "name": "ipython",
    "version": 3
   },
   "file_extension": ".py",
   "mimetype": "text/x-python",
   "name": "python",
   "nbconvert_exporter": "python",
   "pygments_lexer": "ipython3",
   "version": "3.12.0"
  }
 },
 "nbformat": 4,
 "nbformat_minor": 2
}
