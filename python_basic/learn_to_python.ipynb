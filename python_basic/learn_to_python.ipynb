{
 "cells": [
  {
   "cell_type": "code",
   "execution_count": 1,
   "metadata": {},
   "outputs": [
    {
     "ename": "SyntaxError",
     "evalue": "unterminated string literal (detected at line 1) (1929615097.py, line 1)",
     "output_type": "error",
     "traceback": [
      "\u001b[1;36m  Cell \u001b[1;32mIn[1], line 1\u001b[1;36m\u001b[0m\n\u001b[1;33m    food = 'Python's favorite food is perl'\u001b[0m\n\u001b[1;37m                                          ^\u001b[0m\n\u001b[1;31mSyntaxError\u001b[0m\u001b[1;31m:\u001b[0m unterminated string literal (detected at line 1)\n"
     ]
    }
   ],
   "source": [
    "food = 'Python's favorite food is perl'\n",
    "print(food)"
   ]
  },
  {
   "cell_type": "code",
   "execution_count": 1,
   "metadata": {},
   "outputs": [
    {
     "name": "stdout",
     "output_type": "stream",
     "text": [
      "<class 'int'> <class 'int'> <class 'int'>\n"
     ]
    }
   ],
   "source": [
    "# 정수형(Integer)\n",
    "a = 123\n",
    "b = -123\n",
    "c = 0\n",
    "\n",
    "print(type(a),type(b),type(c))"
   ]
  },
  {
   "cell_type": "code",
   "execution_count": 5,
   "metadata": {},
   "outputs": [
    {
     "name": "stdout",
     "output_type": "stream",
     "text": [
      "<class 'float'> <class 'float'>\n",
      "20000000000.0 2e-10\n",
      "<class 'float'> <class 'float'>\n"
     ]
    }
   ],
   "source": [
    "# 실수형(Floating-point)\n",
    "a = 1.2\n",
    "b = -1.2\n",
    "print(type(a),type(b))\n",
    "\n",
    "# '컴퓨터식 지수 표현 방식' >> E 또는 e 를 사용\n",
    "c = 2e10\n",
    "d = 2E-10\n",
    "print(c,d)\n",
    "print(type(c),type(d))\n",
    "# 2e10 = 2 * 10^10"
   ]
  },
  {
   "cell_type": "code",
   "execution_count": 7,
   "metadata": {},
   "outputs": [
    {
     "name": "stdout",
     "output_type": "stream",
     "text": [
      "127\n",
      "2303 2748\n"
     ]
    }
   ],
   "source": [
    "# 8진수 & 16진수\n",
    "# 8진수 >> 0o 또는 0O\n",
    "a = 0o177\n",
    "# 0o177 = 1 x 8^2 + 7 x 8^1 + 7 =127\n",
    "print(a)\n",
    "\n",
    "#16진수 >> 0x\n",
    "b = 0x8ff\n",
    "c = 0xABC\n",
    "print(b,c)\n",
    "\n",
    "# python 에서 잘 사용하지 않는다.\n",
    "# 로봇모션공학(segments) 부분에서 필수로 알아야 했던 기억이 남"
   ]
  },
  {
   "cell_type": "code",
   "execution_count": 10,
   "metadata": {},
   "outputs": [
    {
     "name": "stdout",
     "output_type": "stream",
     "text": [
      "5\n",
      "-1\n",
      "6\n",
      "0.6666666666666666\n",
      "8\n",
      "2\n",
      "0\n"
     ]
    }
   ],
   "source": [
    "# 연산\n",
    "# + : a + b\n",
    "# - : a - b\n",
    "# * : a * b\n",
    "# / : a / b\n",
    "\n",
    "# ** : 제곱\n",
    "# % : 나머지만 리턴\n",
    "# // : 몫을 리턴(정수값)\n",
    "\n",
    "a = 2\n",
    "b = 3\n",
    "print(a + b)\n",
    "print(a - b)\n",
    "print(a * b)\n",
    "print(a / b)\n",
    "print(a ** b)\n",
    "print(a % b)\n",
    "print(a // b)\n"
   ]
  },
  {
   "cell_type": "markdown",
   "metadata": {},
   "source": []
  },
  {
   "cell_type": "code",
   "execution_count": 18,
   "metadata": {},
   "outputs": [
    {
     "name": "stdout",
     "output_type": "stream",
     "text": [
      "jindot\n"
     ]
    },
    {
     "data": {
      "text/plain": [
       "'jindot2'"
      ]
     },
     "execution_count": 18,
     "metadata": {},
     "output_type": "execute_result"
    }
   ],
   "source": [
    "# 문자열(String)\n",
    "# 문자, 단어 등 구성된 문자들의 집합\n",
    "# 1. \" \"\n",
    "iAm = \"jindot\"\n",
    "print(iAm)\n",
    "# 2. ' '\n",
    "iAm2 = 'jindot2'\n",
    "iAm2\n"
   ]
  },
  {
   "cell_type": "code",
   "execution_count": 21,
   "metadata": {},
   "outputs": [
    {
     "data": {
      "text/plain": [
       "\"Show me the 'money'!\""
      ]
     },
     "execution_count": 21,
     "metadata": {},
     "output_type": "execute_result"
    }
   ],
   "source": [
    "# '', \"\"\n",
    "# 문자열에 '를 사용한다면 \" \"로 감싸주고 \"\" 가 있으면 ''로 감싸준다\n",
    "iWant = \"Show me the 'money'!\"\n",
    "iWant"
   ]
  },
  {
   "cell_type": "code",
   "execution_count": 20,
   "metadata": {},
   "outputs": [
    {
     "data": {
      "text/plain": [
       "'i say \"show me the money!\"'"
      ]
     },
     "execution_count": 20,
     "metadata": {},
     "output_type": "execute_result"
    }
   ],
   "source": [
    "iWant = 'i say \"show me the money!\"'\n",
    "iWant"
   ]
  },
  {
   "cell_type": "code",
   "execution_count": 23,
   "metadata": {},
   "outputs": [
    {
     "name": "stdout",
     "output_type": "stream",
     "text": [
      "i am jindot\n",
      "Who are you\n"
     ]
    }
   ],
   "source": [
    "# 여러 줄 문자열을 변수에 저장\n",
    "# 1. 이스케이프 코드 /n\n",
    "multiLine = \"i am jindot\\nWho are you\"\n",
    "print(multiLine)"
   ]
  },
  {
   "cell_type": "code",
   "execution_count": 24,
   "metadata": {},
   "outputs": [
    {
     "name": "stdout",
     "output_type": "stream",
     "text": [
      "\n",
      "i am jindot\n",
      "who are you\n",
      "\n"
     ]
    }
   ],
   "source": [
    "# 2. \"\"\"\"\"\" 또는 ''''''\n",
    "multiLine = '''\n",
    "i am jindot\n",
    "who are you\n",
    "'''\n",
    "print(multiLine)\n",
    "\n",
    "# \"\"\"\"\"\" 도 값은 동일하다.\n"
   ]
  },
  {
   "cell_type": "code",
   "execution_count": null,
   "metadata": {},
   "outputs": [],
   "source": [
    "# 이스케이프 코드 >>>"
   ]
  },
  {
   "cell_type": "code",
   "execution_count": 27,
   "metadata": {},
   "outputs": [
    {
     "data": {
      "text/plain": [
       "'jindotjindot'"
      ]
     },
     "execution_count": 27,
     "metadata": {},
     "output_type": "execute_result"
    }
   ],
   "source": [
    "# 문자열은 + 와 * 이 가능\n",
    "iAm = 'jindot'\n",
    "age = ' 30'\n",
    "iAm + age"
   ]
  },
  {
   "cell_type": "code",
   "execution_count": 28,
   "metadata": {},
   "outputs": [
    {
     "data": {
      "text/plain": [
       "'jindotjindotjindotjindotjindotjindotjindotjindotjindotjindot'"
      ]
     },
     "execution_count": 28,
     "metadata": {},
     "output_type": "execute_result"
    }
   ],
   "source": [
    "iAm = 'jindot'\n",
    "iAm * 10"
   ]
  },
  {
   "cell_type": "code",
   "execution_count": 29,
   "metadata": {},
   "outputs": [
    {
     "data": {
      "text/plain": [
       "17"
      ]
     },
     "execution_count": 29,
     "metadata": {},
     "output_type": "execute_result"
    }
   ],
   "source": [
    "# len : 문자열의 길이 (Length)\n",
    "iAm = \"my name is jindot\"\n",
    "len(iAm)\n",
    "\n"
   ]
  },
  {
   "cell_type": "code",
   "execution_count": 1,
   "metadata": {},
   "outputs": [
    {
     "data": {
      "text/plain": [
       "'i eat 3 apple'"
      ]
     },
     "execution_count": 1,
     "metadata": {},
     "output_type": "execute_result"
    }
   ],
   "source": [
    "\"i eat %d apple\" %3"
   ]
  },
  {
   "cell_type": "code",
   "execution_count": 1,
   "metadata": {},
   "outputs": [
    {
     "data": {
      "text/plain": [
       "'n'"
      ]
     },
     "execution_count": 1,
     "metadata": {},
     "output_type": "execute_result"
    }
   ],
   "source": [
    "# 문자열 인덱싱(Indexing)\n",
    "# 인덱싱 : '가르킨다'\n",
    "a = 'my name is jindot.'\n",
    "\n",
    "a[3]"
   ]
  },
  {
   "cell_type": "code",
   "execution_count": 2,
   "metadata": {},
   "outputs": [
    {
     "data": {
      "text/plain": [
       "'o'"
      ]
     },
     "execution_count": 2,
     "metadata": {},
     "output_type": "execute_result"
    }
   ],
   "source": [
    "a = 'my name is jindot'\n",
    "a[-2]\n"
   ]
  },
  {
   "cell_type": "code",
   "execution_count": 9,
   "metadata": {},
   "outputs": [
    {
     "data": {
      "text/plain": [
       "'my name'"
      ]
     },
     "execution_count": 9,
     "metadata": {},
     "output_type": "execute_result"
    }
   ],
   "source": [
    "# 문자열 슬라이싱(Slicing)\n",
    "# 슬라이싱 : 잘라내다.\n",
    "\n",
    "a = 'my name is jindot.'\n",
    "b = a[0] + a[1] + a[2] + a[3] + a[4] + a[5] + a[6]\n",
    "b"
   ]
  },
  {
   "cell_type": "code",
   "execution_count": 13,
   "metadata": {},
   "outputs": [
    {
     "data": {
      "text/plain": [
       "'my nam'"
      ]
     },
     "execution_count": 13,
     "metadata": {},
     "output_type": "execute_result"
    }
   ],
   "source": [
    "a = 'my name is jindot.'\n",
    "a[0:6]"
   ]
  },
  {
   "cell_type": "code",
   "execution_count": null,
   "metadata": {},
   "outputs": [],
   "source": [
    "a = 'my name is jindot.'\n",
    "a[8:10]"
   ]
  },
  {
   "cell_type": "code",
   "execution_count": 14,
   "metadata": {},
   "outputs": [
    {
     "data": {
      "text/plain": [
       "' is jindot.'"
      ]
     },
     "execution_count": 14,
     "metadata": {},
     "output_type": "execute_result"
    }
   ],
   "source": [
    "a = 'my name is jindot.'\n",
    "a[7:]"
   ]
  },
  {
   "cell_type": "code",
   "execution_count": 15,
   "metadata": {},
   "outputs": [
    {
     "data": {
      "text/plain": [
       "'my name'"
      ]
     },
     "execution_count": 15,
     "metadata": {},
     "output_type": "execute_result"
    }
   ],
   "source": [
    "a = 'my name is jindot.'\n",
    "a[:7]"
   ]
  },
  {
   "cell_type": "code",
   "execution_count": 18,
   "metadata": {},
   "outputs": [
    {
     "ename": "TypeError",
     "evalue": "'str' object does not support item assignment",
     "output_type": "error",
     "traceback": [
      "\u001b[1;31m---------------------------------------------------------------------------\u001b[0m",
      "\u001b[1;31mTypeError\u001b[0m                                 Traceback (most recent call last)",
      "\u001b[1;32mc:\\Users\\jinwo\\Desktop\\learn_to_python.ipynb 셀 24\u001b[0m line \u001b[0;36m3\n\u001b[0;32m      <a href='vscode-notebook-cell:/c%3A/Users/jinwo/Desktop/learn_to_python.ipynb#X32sZmlsZQ%3D%3D?line=0'>1</a>\u001b[0m \u001b[39m# 만약 jindot을 jinwon 으로 바꾸고 싶다면\u001b[39;00m\n\u001b[0;32m      <a href='vscode-notebook-cell:/c%3A/Users/jinwo/Desktop/learn_to_python.ipynb#X32sZmlsZQ%3D%3D?line=1'>2</a>\u001b[0m a \u001b[39m=\u001b[39m \u001b[39m'\u001b[39m\u001b[39mmy name is jindot.\u001b[39m\u001b[39m'\u001b[39m\n\u001b[1;32m----> <a href='vscode-notebook-cell:/c%3A/Users/jinwo/Desktop/learn_to_python.ipynb#X32sZmlsZQ%3D%3D?line=2'>3</a>\u001b[0m a[\u001b[39m14\u001b[39m] \u001b[39m=\u001b[39m \u001b[39m'\u001b[39m\u001b[39mw\u001b[39m\u001b[39m'\u001b[39m\n",
      "\u001b[1;31mTypeError\u001b[0m: 'str' object does not support item assignment"
     ]
    }
   ],
   "source": [
    "# 만약 jindot을 jinwon 으로 바꾸고 싶다면\n",
    "a = 'my name is jindot.'\n",
    "a[14] = 'w'\n"
   ]
  },
  {
   "cell_type": "code",
   "execution_count": 20,
   "metadata": {},
   "outputs": [
    {
     "data": {
      "text/plain": [
       "'my name is jinwon.'"
      ]
     },
     "execution_count": 20,
     "metadata": {},
     "output_type": "execute_result"
    }
   ],
   "source": [
    "a = 'my name is jindot.'\n",
    "a[:14] + 'w' + a[15] + 'n' + a[17]\n"
   ]
  },
  {
   "cell_type": "code",
   "execution_count": 21,
   "metadata": {},
   "outputs": [
    {
     "data": {
      "text/plain": [
       "'my age is 30'"
      ]
     },
     "execution_count": 21,
     "metadata": {},
     "output_type": "execute_result"
    }
   ],
   "source": [
    "# 문자열 포매팅(String formatting)\n",
    "# 특정 방식으로 데이터를 배열하거나 표시하는 것\n",
    "# 숫자 바로 대입\n",
    "'my age is %d' %30 # %d : 문자열 포맷 코드"
   ]
  },
  {
   "cell_type": "code",
   "execution_count": 23,
   "metadata": {},
   "outputs": [
    {
     "ename": "TypeError",
     "evalue": "%d format: a real number is required, not str",
     "output_type": "error",
     "traceback": [
      "\u001b[1;31m---------------------------------------------------------------------------\u001b[0m",
      "\u001b[1;31mTypeError\u001b[0m                                 Traceback (most recent call last)",
      "\u001b[1;32mc:\\Users\\jinwo\\Desktop\\learn_to_python.ipynb 셀 27\u001b[0m line \u001b[0;36m2\n\u001b[0;32m      <a href='vscode-notebook-cell:/c%3A/Users/jinwo/Desktop/learn_to_python.ipynb#X35sZmlsZQ%3D%3D?line=0'>1</a>\u001b[0m \u001b[39m# 문자열 바로 대입\u001b[39;00m\n\u001b[1;32m----> <a href='vscode-notebook-cell:/c%3A/Users/jinwo/Desktop/learn_to_python.ipynb#X35sZmlsZQ%3D%3D?line=1'>2</a>\u001b[0m \u001b[39m'\u001b[39m\u001b[39mmy name is \u001b[39m\u001b[39m%d\u001b[39;00m\u001b[39m'\u001b[39m \u001b[39m%\u001b[39m\u001b[39m'\u001b[39m\u001b[39m만 29살 이요.\u001b[39m\u001b[39m'\u001b[39m\n",
      "\u001b[1;31mTypeError\u001b[0m: %d format: a real number is required, not str"
     ]
    }
   ],
   "source": [
    "# 문자열 바로 대입\n",
    "'my age is %d' %'만 29살 이요.'\n"
   ]
  },
  {
   "cell_type": "code",
   "execution_count": 24,
   "metadata": {},
   "outputs": [
    {
     "data": {
      "text/plain": [
       "'my name is 만 29살 이요.'"
      ]
     },
     "execution_count": 24,
     "metadata": {},
     "output_type": "execute_result"
    }
   ],
   "source": [
    "'my age is %s' %'만 29살 이요.'"
   ]
  },
  {
   "cell_type": "code",
   "execution_count": 25,
   "metadata": {},
   "outputs": [
    {
     "data": {
      "text/plain": [
       "'my age is 30'"
      ]
     },
     "execution_count": 25,
     "metadata": {},
     "output_type": "execute_result"
    }
   ],
   "source": [
    "# 변수 대입\n",
    "number = 30\n",
    "'my age is %d' % number"
   ]
  },
  {
   "cell_type": "code",
   "execution_count": 26,
   "metadata": {},
   "outputs": [
    {
     "data": {
      "text/plain": [
       "'my name is jindot, age is 30'"
      ]
     },
     "execution_count": 26,
     "metadata": {},
     "output_type": "execute_result"
    }
   ],
   "source": [
    "# 2개 이상의 값\n",
    "name = 'jindot'\n",
    "age = 30\n",
    "'my name is %s, age is %d' %(name, age)\n"
   ]
  },
  {
   "cell_type": "code",
   "execution_count": 27,
   "metadata": {},
   "outputs": [
    {
     "data": {
      "text/plain": [
       "'my age is 30'"
      ]
     },
     "execution_count": 27,
     "metadata": {},
     "output_type": "execute_result"
    }
   ],
   "source": [
    "# format 함수 사용\n",
    "'my age is {0}'.format(30)"
   ]
  },
  {
   "cell_type": "code",
   "execution_count": 30,
   "metadata": {},
   "outputs": [
    {
     "data": {
      "text/plain": [
       "'my name is jinwon'"
      ]
     },
     "execution_count": 30,
     "metadata": {},
     "output_type": "execute_result"
    }
   ],
   "source": [
    "'my name is {0}'.format('jinwon')"
   ]
  },
  {
   "cell_type": "code",
   "execution_count": 36,
   "metadata": {},
   "outputs": [
    {
     "name": "stdout",
     "output_type": "stream",
     "text": [
      "1\n",
      "2\n"
     ]
    },
    {
     "data": {
      "text/plain": [
       "5"
      ]
     },
     "execution_count": 36,
     "metadata": {},
     "output_type": "execute_result"
    }
   ],
   "source": [
    "# 문자열 관련 함수들\n",
    "a = 'I want to be an AI developer!'\n",
    "# count : 문자 개수 세기\n",
    "print(a.count('w'))\n",
    "# find : 위치 찾기\n",
    "print(a.find('w'))\n",
    "# index : 찾는 문자가 맨 처음으로 나온 위치를 반환한다.\n",
    "#       : 존재하지 않는다면 valueError\n",
    "print(a.index('t'))\n",
    "\n"
   ]
  },
  {
   "cell_type": "code",
   "execution_count": 48,
   "metadata": {},
   "outputs": [
    {
     "name": "stdout",
     "output_type": "stream",
     "text": [
      "I\n",
      "you\n"
     ]
    }
   ],
   "source": [
    "# join : 문자열 삽입\n",
    "\",\".join('abcd')\n",
    "# abcd 문자열에 ,를 각각의 문자 사이에 삽입한다.\n",
    "\n",
    "# upper : 소문자 >> 대문자\n",
    "# lower : 대문자 >> 소문자\n",
    "a = 'i'\n",
    "print(a.upper())\n",
    "b = 'YOU'\n",
    "print(b.lower())\n",
    "\n",
    "# 대문자 소문자 섞여있다면??\n",
    "# 값은 변할까??"
   ]
  },
  {
   "cell_type": "code",
   "execution_count": 49,
   "metadata": {},
   "outputs": [
    {
     "data": {
      "text/plain": [
       "['my', 'name', 'is', 'jindot']"
      ]
     },
     "execution_count": 49,
     "metadata": {},
     "output_type": "execute_result"
    }
   ],
   "source": [
    "# split : 문자열 나누기\n",
    "a = 'my name is jindot'\n",
    "a.split()\n"
   ]
  },
  {
   "cell_type": "code",
   "execution_count": 52,
   "metadata": {},
   "outputs": [
    {
     "data": {
      "text/plain": [
       "['a', 'b', 'c', 'd']"
      ]
     },
     "execution_count": 52,
     "metadata": {},
     "output_type": "execute_result"
    }
   ],
   "source": [
    "b = 'a.b.c.d'\n",
    "b.split('.')\n",
    "\n"
   ]
  }
 ],
 "metadata": {
  "kernelspec": {
   "display_name": "base",
   "language": "python",
   "name": "python3"
  },
  "language_info": {
   "codemirror_mode": {
    "name": "ipython",
    "version": 3
   },
   "file_extension": ".py",
   "mimetype": "text/x-python",
   "name": "python",
   "nbconvert_exporter": "python",
   "pygments_lexer": "ipython3",
   "version": "3.11.5"
  }
 },
 "nbformat": 4,
 "nbformat_minor": 2
}
